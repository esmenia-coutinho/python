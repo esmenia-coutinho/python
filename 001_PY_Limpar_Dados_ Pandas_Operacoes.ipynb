{
 "cells": [
  {
   "cell_type": "markdown",
   "metadata": {},
   "source": [
    "## Nootebook para LIMPEZA DE DADOS. \n",
    "## Uso da biblioteca Pandas (Python)"
   ]
  },
  {
   "cell_type": "markdown",
   "metadata": {},
   "source": [
    "### 1- Ler a fonte de origem dos dados e carregar num dataframe"
   ]
  },
  {
   "cell_type": "code",
   "execution_count": 4,
   "metadata": {},
   "outputs": [
    {
     "name": "stdout",
     "output_type": "stream",
     "text": [
      "Collecting pandas\n",
      "  Downloading pandas-2.2.3-cp312-cp312-win_amd64.whl.metadata (19 kB)\n",
      "Collecting numpy>=1.26.0 (from pandas)\n",
      "  Downloading numpy-2.2.3-cp312-cp312-win_amd64.whl.metadata (60 kB)\n",
      "     ---------------------------------------- 0.0/60.8 kB ? eta -:--:--\n",
      "     ------ --------------------------------- 10.2/60.8 kB ? eta -:--:--\n",
      "     ------------------------- ------------ 41.0/60.8 kB 495.5 kB/s eta 0:00:01\n",
      "     -------------------------------------- 60.8/60.8 kB 544.1 kB/s eta 0:00:00\n",
      "Requirement already satisfied: python-dateutil>=2.8.2 in c:\\users\\esmen\\appdata\\local\\programs\\python\\python312\\lib\\site-packages (from pandas) (2.9.0.post0)\n",
      "Collecting pytz>=2020.1 (from pandas)\n",
      "  Downloading pytz-2025.1-py2.py3-none-any.whl.metadata (22 kB)\n",
      "Collecting tzdata>=2022.7 (from pandas)\n",
      "  Downloading tzdata-2025.1-py2.py3-none-any.whl.metadata (1.4 kB)\n",
      "Requirement already satisfied: six>=1.5 in c:\\users\\esmen\\appdata\\local\\programs\\python\\python312\\lib\\site-packages (from python-dateutil>=2.8.2->pandas) (1.16.0)\n",
      "Downloading pandas-2.2.3-cp312-cp312-win_amd64.whl (11.5 MB)\n",
      "   ---------------------------------------- 0.0/11.5 MB ? eta -:--:--\n",
      "   ---------------------------------------- 0.1/11.5 MB 2.6 MB/s eta 0:00:05\n",
      "   - -------------------------------------- 0.4/11.5 MB 4.9 MB/s eta 0:00:03\n",
      "   -- ------------------------------------- 0.8/11.5 MB 6.6 MB/s eta 0:00:02\n",
      "   ---- ----------------------------------- 1.3/11.5 MB 7.4 MB/s eta 0:00:02\n",
      "   ------ --------------------------------- 1.8/11.5 MB 8.1 MB/s eta 0:00:02\n",
      "   ------- -------------------------------- 2.3/11.5 MB 8.4 MB/s eta 0:00:02\n",
      "   --------- ------------------------------ 2.8/11.5 MB 8.9 MB/s eta 0:00:01\n",
      "   ----------- ---------------------------- 3.3/11.5 MB 9.1 MB/s eta 0:00:01\n",
      "   ------------- -------------------------- 3.8/11.5 MB 9.2 MB/s eta 0:00:01\n",
      "   -------------- ------------------------- 4.3/11.5 MB 9.4 MB/s eta 0:00:01\n",
      "   ---------------- ----------------------- 4.6/11.5 MB 9.2 MB/s eta 0:00:01\n",
      "   ------------------ --------------------- 5.3/11.5 MB 9.7 MB/s eta 0:00:01\n",
      "   -------------------- ------------------- 5.9/11.5 MB 9.9 MB/s eta 0:00:01\n",
      "   ---------------------- ----------------- 6.5/11.5 MB 10.0 MB/s eta 0:00:01\n",
      "   ------------------------ --------------- 7.0/11.5 MB 10.3 MB/s eta 0:00:01\n",
      "   -------------------------- ------------- 7.5/11.5 MB 10.5 MB/s eta 0:00:01\n",
      "   ---------------------------- ----------- 8.1/11.5 MB 10.5 MB/s eta 0:00:01\n",
      "   ----------------------------- ---------- 8.6/11.5 MB 10.4 MB/s eta 0:00:01\n",
      "   ------------------------------- -------- 9.2/11.5 MB 10.5 MB/s eta 0:00:01\n",
      "   --------------------------------- ------ 9.6/11.5 MB 10.6 MB/s eta 0:00:01\n",
      "   ----------------------------------- ---- 10.3/11.5 MB 10.9 MB/s eta 0:00:01\n",
      "   ------------------------------------- -- 10.8/11.5 MB 11.3 MB/s eta 0:00:01\n",
      "   ---------------------------------------  11.5/11.5 MB 11.5 MB/s eta 0:00:01\n",
      "   ---------------------------------------  11.5/11.5 MB 11.5 MB/s eta 0:00:01\n",
      "   ---------------------------------------- 11.5/11.5 MB 10.7 MB/s eta 0:00:00\n",
      "Downloading numpy-2.2.3-cp312-cp312-win_amd64.whl (12.6 MB)\n",
      "   ---------------------------------------- 0.0/12.6 MB ? eta -:--:--\n",
      "   - -------------------------------------- 0.5/12.6 MB 16.3 MB/s eta 0:00:01\n",
      "   --- ------------------------------------ 1.1/12.6 MB 13.5 MB/s eta 0:00:01\n",
      "   ----- ---------------------------------- 1.6/12.6 MB 11.5 MB/s eta 0:00:01\n",
      "   ------ --------------------------------- 2.2/12.6 MB 12.5 MB/s eta 0:00:01\n",
      "   -------- ------------------------------- 2.7/12.6 MB 12.2 MB/s eta 0:00:01\n",
      "   ---------- ----------------------------- 3.3/12.6 MB 12.2 MB/s eta 0:00:01\n",
      "   ------------ --------------------------- 3.8/12.6 MB 12.1 MB/s eta 0:00:01\n",
      "   ------------- -------------------------- 4.3/12.6 MB 12.0 MB/s eta 0:00:01\n",
      "   --------------- ------------------------ 4.9/12.6 MB 12.0 MB/s eta 0:00:01\n",
      "   ----------------- ---------------------- 5.5/12.6 MB 12.1 MB/s eta 0:00:01\n",
      "   ------------------- -------------------- 6.0/12.6 MB 12.0 MB/s eta 0:00:01\n",
      "   -------------------- ------------------- 6.5/12.6 MB 11.8 MB/s eta 0:00:01\n",
      "   ---------------------- ----------------- 7.0/12.6 MB 11.8 MB/s eta 0:00:01\n",
      "   ------------------------ --------------- 7.6/12.6 MB 11.8 MB/s eta 0:00:01\n",
      "   ------------------------ --------------- 7.9/12.6 MB 11.4 MB/s eta 0:00:01\n",
      "   --------------------------- ------------ 8.7/12.6 MB 11.9 MB/s eta 0:00:01\n",
      "   ---------------------------- ----------- 9.1/12.6 MB 11.7 MB/s eta 0:00:01\n",
      "   ------------------------------- -------- 9.8/12.6 MB 11.9 MB/s eta 0:00:01\n",
      "   -------------------------------- ------- 10.4/12.6 MB 11.9 MB/s eta 0:00:01\n",
      "   ---------------------------------- ----- 11.0/12.6 MB 11.9 MB/s eta 0:00:01\n",
      "   ------------------------------------ --- 11.5/12.6 MB 11.9 MB/s eta 0:00:01\n",
      "   -------------------------------------- - 12.1/12.6 MB 11.9 MB/s eta 0:00:01\n",
      "   ---------------------------------------  12.6/12.6 MB 11.9 MB/s eta 0:00:01\n",
      "   ---------------------------------------  12.6/12.6 MB 11.9 MB/s eta 0:00:01\n",
      "   ---------------------------------------- 12.6/12.6 MB 10.9 MB/s eta 0:00:00\n",
      "Downloading pytz-2025.1-py2.py3-none-any.whl (507 kB)\n",
      "   ---------------------------------------- 0.0/507.9 kB ? eta -:--:--\n",
      "   --------------------------------------  501.8/507.9 kB 10.5 MB/s eta 0:00:01\n",
      "   ---------------------------------------- 507.9/507.9 kB 7.9 MB/s eta 0:00:00\n",
      "Downloading tzdata-2025.1-py2.py3-none-any.whl (346 kB)\n",
      "   ---------------------------------------- 0.0/346.8 kB ? eta -:--:--\n",
      "   -------------------------------------- - 337.9/346.8 kB 7.0 MB/s eta 0:00:01\n",
      "   ---------------------------------------- 346.8/346.8 kB 5.4 MB/s eta 0:00:00\n",
      "Installing collected packages: pytz, tzdata, numpy, pandas\n",
      "Successfully installed numpy-2.2.3 pandas-2.2.3 pytz-2025.1 tzdata-2025.1\n",
      "Note: you may need to restart the kernel to use updated packages.\n"
     ]
    },
    {
     "name": "stderr",
     "output_type": "stream",
     "text": [
      "\n",
      "[notice] A new release of pip is available: 24.0 -> 25.0.1\n",
      "[notice] To update, run: python.exe -m pip install --upgrade pip\n"
     ]
    }
   ],
   "source": [
    "pip install pandas"
   ]
  },
  {
   "cell_type": "code",
   "execution_count": 5,
   "metadata": {},
   "outputs": [
    {
     "name": "stdout",
     "output_type": "stream",
     "text": [
      "    Duracao        Data  Pulso  Maxpulso  Calorias\n",
      "0        60  2020/12/01    110       130     409.1\n",
      "1        60  2020/12/02    117       145     479.0\n",
      "2        60  2020/12/03    103       135     340.0\n",
      "3        45  2020/12/04    109       175     282.4\n",
      "4        45  2020/12/05    117       148     406.0\n",
      "5        60  2020/12/06    102       127     300.0\n",
      "6        60  2020/12/07    110       136     374.0\n",
      "7       450  2020/12/08    104       134     253.3\n",
      "8        30  2020/12/09    109       133     195.1\n",
      "9        60  2020/12/10     98       124     269.0\n",
      "10       60  2020/12/11    103       147     329.3\n",
      "11       60  2020/12/12    100       120     250.7\n",
      "12       60  2020/12/12    100       120     250.7\n",
      "13       60  2020/12/13    106       128     345.3\n",
      "14       60  2020/12/14    104       132     379.3\n",
      "15       60  2020/12/15     98       123     275.0\n",
      "16       60  2020/12/16     98       120     215.2\n",
      "17       60  2020/12/17    100       120     300.0\n",
      "18       45  2020/12/18     90       112       NaN\n",
      "19       60  2020/12/19    103       123     323.0\n",
      "20       45  2020/12/20     97       125     243.0\n",
      "21       60  2020/12/21    108       131     364.2\n",
      "22       45         NaN    100       119     282.0\n",
      "23       60  2020/12/23    130       101     300.0\n",
      "24       60  2020/12/24    105       132     246.0\n",
      "25       60  2020/12/25    102       126     334.5\n",
      "26       60  2020/12/26    100       120     250.0\n",
      "27       60  2020/12/27     92       118     241.0\n",
      "28       60  2020/12/28    103       132       NaN\n",
      "29       60  2020/12/29    100       132     280.0\n",
      "30       60  2020/12/30    102       129     380.3\n",
      "31       60  2020/12/31     92       115     243.0\n"
     ]
    }
   ],
   "source": [
    "import pandas as pd\n",
    "\n",
    "df = pd.read_csv(r\"C:\\Portfolio_Projetos\\Python\\001_Pandas_Operacoes.txt\")\n",
    "print(df.to_string())"
   ]
  },
  {
   "cell_type": "markdown",
   "metadata": {},
   "source": [
    "### 2- Identificar os dados que precisam ser manipulados, isso inclue:\n",
    "####    - Células vazias: \"Data\" na linha 22 e \"Calorias\" nas linhas 18 e 28"
   ]
  },
  {
   "cell_type": "code",
   "execution_count": null,
   "metadata": {},
   "outputs": [
    {
     "name": "stdout",
     "output_type": "stream",
     "text": [
      "    Duracao        Data  Pulso  Maxpulso  Calorias\n",
      "0        60  2020/12/01    110       130     409.1\n",
      "1        60  2020/12/02    117       145     479.0\n",
      "2        60  2020/12/03    103       135     340.0\n",
      "3        45  2020/12/04    109       175     282.4\n",
      "4        45  2020/12/05    117       148     406.0\n",
      "5        60  2020/12/06    102       127     300.0\n",
      "6        60  2020/12/07    110       136     374.0\n",
      "7       450  2020/12/08    104       134     253.3\n",
      "8        30  2020/12/09    109       133     195.1\n",
      "9        60  2020/12/10     98       124     269.0\n",
      "10       60  2020/12/11    103       147     329.3\n",
      "11       60  2020/12/12    100       120     250.7\n",
      "12       60  2020/12/12    100       120     250.7\n",
      "13       60  2020/12/13    106       128     345.3\n",
      "14       60  2020/12/14    104       132     379.3\n",
      "15       60  2020/12/15     98       123     275.0\n",
      "16       60  2020/12/16     98       120     215.2\n",
      "17       60  2020/12/17    100       120     300.0\n",
      "19       60  2020/12/19    103       123     323.0\n",
      "20       45  2020/12/20     97       125     243.0\n",
      "21       60  2020/12/21    108       131     364.2\n",
      "23       60  2020/12/23    130       101     300.0\n",
      "24       60  2020/12/24    105       132     246.0\n",
      "25       60  2020/12/25    102       126     334.5\n",
      "26       60  2020/12/26    100       120     250.0\n",
      "27       60  2020/12/27     92       118     241.0\n",
      "29       60  2020/12/29    100       132     280.0\n",
      "30       60  2020/12/30    102       129     380.3\n",
      "31       60  2020/12/31     92       115     243.0\n"
     ]
    }
   ],
   "source": [
    "# Tratativa para Valores vazios por Remover linhas que contêm células vazias\n",
    "# remover algumas linhas não terá um grande impacto no resultado, como é o caso\n",
    "\n",
    "# poderá criar um novo dataframe com as linhas removidas\n",
    "new_df = df.dropna()\n",
    "\n",
    "print(new_df.to_string())"
   ]
  },
  {
   "cell_type": "code",
   "execution_count": 8,
   "metadata": {},
   "outputs": [
    {
     "name": "stdout",
     "output_type": "stream",
     "text": [
      "    Duracao        Data  Pulso  Maxpulso  Calorias\n",
      "0        60  2020/12/01    110       130     409.1\n",
      "1        60  2020/12/02    117       145     479.0\n",
      "2        60  2020/12/03    103       135     340.0\n",
      "3        45  2020/12/04    109       175     282.4\n",
      "4        45  2020/12/05    117       148     406.0\n",
      "5        60  2020/12/06    102       127     300.0\n",
      "6        60  2020/12/07    110       136     374.0\n",
      "7       450  2020/12/08    104       134     253.3\n",
      "8        30  2020/12/09    109       133     195.1\n",
      "9        60  2020/12/10     98       124     269.0\n",
      "10       60  2020/12/11    103       147     329.3\n",
      "11       60  2020/12/12    100       120     250.7\n",
      "12       60  2020/12/12    100       120     250.7\n",
      "13       60  2020/12/13    106       128     345.3\n",
      "14       60  2020/12/14    104       132     379.3\n",
      "15       60  2020/12/15     98       123     275.0\n",
      "16       60  2020/12/16     98       120     215.2\n",
      "17       60  2020/12/17    100       120     300.0\n",
      "19       60  2020/12/19    103       123     323.0\n",
      "20       45  2020/12/20     97       125     243.0\n",
      "21       60  2020/12/21    108       131     364.2\n",
      "23       60  2020/12/23    130       101     300.0\n",
      "24       60  2020/12/24    105       132     246.0\n",
      "25       60  2020/12/25    102       126     334.5\n",
      "26       60  2020/12/26    100       120     250.0\n",
      "27       60  2020/12/27     92       118     241.0\n",
      "29       60  2020/12/29    100       132     280.0\n",
      "30       60  2020/12/30    102       129     380.3\n",
      "31       60  2020/12/31     92       115     243.0\n"
     ]
    }
   ],
   "source": [
    "# Tratativa para Valores vazios por Remover linhas que contêm células vazias\n",
    "# remover algumas linhas não terá um grande impacto no resultado, como é o caso\n",
    "\n",
    "# poderá remover as linhas no DataFrame original, inplace = True\n",
    "df.dropna(inplace = True)\n",
    "\n",
    "print(df.to_string())"
   ]
  },
  {
   "cell_type": "code",
   "execution_count": 9,
   "metadata": {},
   "outputs": [
    {
     "name": "stdout",
     "output_type": "stream",
     "text": [
      "    Duracao        Data  Pulso  Maxpulso  Calorias\n",
      "0        60  2020/12/01    110       130     409.1\n",
      "1        60  2020/12/02    117       145     479.0\n",
      "2        60  2020/12/03    103       135     340.0\n",
      "3        45  2020/12/04    109       175     282.4\n",
      "4        45  2020/12/05    117       148     406.0\n",
      "5        60  2020/12/06    102       127     300.0\n",
      "6        60  2020/12/07    110       136     374.0\n",
      "7       450  2020/12/08    104       134     253.3\n",
      "8        30  2020/12/09    109       133     195.1\n",
      "9        60  2020/12/10     98       124     269.0\n",
      "10       60  2020/12/11    103       147     329.3\n",
      "11       60  2020/12/12    100       120     250.7\n",
      "12       60  2020/12/12    100       120     250.7\n",
      "13       60  2020/12/13    106       128     345.3\n",
      "14       60  2020/12/14    104       132     379.3\n",
      "15       60  2020/12/15     98       123     275.0\n",
      "16       60  2020/12/16     98       120     215.2\n",
      "17       60  2020/12/17    100       120     300.0\n",
      "19       60  2020/12/19    103       123     323.0\n",
      "20       45  2020/12/20     97       125     243.0\n",
      "21       60  2020/12/21    108       131     364.2\n",
      "23       60  2020/12/23    130       101     300.0\n",
      "24       60  2020/12/24    105       132     246.0\n",
      "25       60  2020/12/25    102       126     334.5\n",
      "26       60  2020/12/26    100       120     250.0\n",
      "27       60  2020/12/27     92       118     241.0\n",
      "29       60  2020/12/29    100       132     280.0\n",
      "30       60  2020/12/30    102       129     380.3\n",
      "31       60  2020/12/31     92       115     243.0\n"
     ]
    }
   ],
   "source": [
    "# Tratativa para Valores vazios por Substituir Valores Vazios\n",
    "\n",
    "# poderá usar o método fillna() nos permite substituir células vazias por um valor\n",
    "df.fillna(130, inplace = True)\n",
    "\n",
    "print(df.to_string())"
   ]
  },
  {
   "cell_type": "code",
   "execution_count": 10,
   "metadata": {},
   "outputs": [
    {
     "name": "stdout",
     "output_type": "stream",
     "text": [
      "    Duracao        Data  Pulso  Maxpulso  Calorias\n",
      "0        60  2020/12/01    110       130     409.1\n",
      "1        60  2020/12/02    117       145     479.0\n",
      "2        60  2020/12/03    103       135     340.0\n",
      "3        45  2020/12/04    109       175     282.4\n",
      "4        45  2020/12/05    117       148     406.0\n",
      "5        60  2020/12/06    102       127     300.0\n",
      "6        60  2020/12/07    110       136     374.0\n",
      "7       450  2020/12/08    104       134     253.3\n",
      "8        30  2020/12/09    109       133     195.1\n",
      "9        60  2020/12/10     98       124     269.0\n",
      "10       60  2020/12/11    103       147     329.3\n",
      "11       60  2020/12/12    100       120     250.7\n",
      "12       60  2020/12/12    100       120     250.7\n",
      "13       60  2020/12/13    106       128     345.3\n",
      "14       60  2020/12/14    104       132     379.3\n",
      "15       60  2020/12/15     98       123     275.0\n",
      "16       60  2020/12/16     98       120     215.2\n",
      "17       60  2020/12/17    100       120     300.0\n",
      "19       60  2020/12/19    103       123     323.0\n",
      "20       45  2020/12/20     97       125     243.0\n",
      "21       60  2020/12/21    108       131     364.2\n",
      "23       60  2020/12/23    130       101     300.0\n",
      "24       60  2020/12/24    105       132     246.0\n",
      "25       60  2020/12/25    102       126     334.5\n",
      "26       60  2020/12/26    100       120     250.0\n",
      "27       60  2020/12/27     92       118     241.0\n",
      "29       60  2020/12/29    100       132     280.0\n",
      "30       60  2020/12/30    102       129     380.3\n",
      "31       60  2020/12/31     92       115     243.0\n"
     ]
    },
    {
     "name": "stderr",
     "output_type": "stream",
     "text": [
      "C:\\Users\\esmen\\AppData\\Local\\Temp\\ipykernel_20652\\2780486292.py:5: FutureWarning: A value is trying to be set on a copy of a DataFrame or Series through chained assignment using an inplace method.\n",
      "The behavior will change in pandas 3.0. This inplace method will never work because the intermediate object on which we are setting values always behaves as a copy.\n",
      "\n",
      "For example, when doing 'df[col].method(value, inplace=True)', try using 'df.method({col: value}, inplace=True)' or df[col] = df[col].method(value) instead, to perform the operation inplace on the original object.\n",
      "\n",
      "\n",
      "  df[\"Calorias\"].fillna(130, inplace = True)\n"
     ]
    }
   ],
   "source": [
    "# Tratativa para Valores vazios\n",
    "# Substituir Valores Vazios\n",
    "\n",
    "# poderá usar o método fillna() para substituir células vazias de uma coluna especifica\n",
    "df[\"Calorias\"].fillna(130, inplace = True)\n",
    "\n",
    "print(df.to_string())"
   ]
  },
  {
   "cell_type": "markdown",
   "metadata": {},
   "source": [
    "### 2- Identificar os dados que precisam ser manipulados, isso inclue:\n",
    "####    - Células vazias - Okay\n",
    "####    - Dados com formato errado: \"Data\" na linha 26"
   ]
  },
  {
   "cell_type": "code",
   "execution_count": 11,
   "metadata": {},
   "outputs": [
    {
     "name": "stdout",
     "output_type": "stream",
     "text": [
      "    Duracao        Data  Pulso  Maxpulso  Calorias       Date\n",
      "0        60  2020/12/01    110       130     409.1 2020-12-01\n",
      "1        60  2020/12/02    117       145     479.0 2020-12-02\n",
      "2        60  2020/12/03    103       135     340.0 2020-12-03\n",
      "3        45  2020/12/04    109       175     282.4 2020-12-04\n",
      "4        45  2020/12/05    117       148     406.0 2020-12-05\n",
      "5        60  2020/12/06    102       127     300.0 2020-12-06\n",
      "6        60  2020/12/07    110       136     374.0 2020-12-07\n",
      "7       450  2020/12/08    104       134     253.3 2020-12-08\n",
      "8        30  2020/12/09    109       133     195.1 2020-12-09\n",
      "9        60  2020/12/10     98       124     269.0 2020-12-10\n",
      "10       60  2020/12/11    103       147     329.3 2020-12-11\n",
      "11       60  2020/12/12    100       120     250.7 2020-12-12\n",
      "12       60  2020/12/12    100       120     250.7 2020-12-12\n",
      "13       60  2020/12/13    106       128     345.3 2020-12-13\n",
      "14       60  2020/12/14    104       132     379.3 2020-12-14\n",
      "15       60  2020/12/15     98       123     275.0 2020-12-15\n",
      "16       60  2020/12/16     98       120     215.2 2020-12-16\n",
      "17       60  2020/12/17    100       120     300.0 2020-12-17\n",
      "19       60  2020/12/19    103       123     323.0 2020-12-19\n",
      "20       45  2020/12/20     97       125     243.0 2020-12-20\n",
      "21       60  2020/12/21    108       131     364.2 2020-12-21\n",
      "23       60  2020/12/23    130       101     300.0 2020-12-23\n",
      "24       60  2020/12/24    105       132     246.0 2020-12-24\n",
      "25       60  2020/12/25    102       126     334.5 2020-12-25\n",
      "26       60  2020/12/26    100       120     250.0 2020-12-26\n",
      "27       60  2020/12/27     92       118     241.0 2020-12-27\n",
      "29       60  2020/12/29    100       132     280.0 2020-12-29\n",
      "30       60  2020/12/30    102       129     380.3 2020-12-30\n",
      "31       60  2020/12/31     92       115     243.0 2020-12-31\n"
     ]
    }
   ],
   "source": [
    "# Tratativa para Formato errado por Aplicar formato correto \n",
    "# aplicar formato correto nos campos de datas\n",
    "df['Date'] = pd.to_datetime(df['Data'])\n",
    "\n",
    "print(df.to_string())"
   ]
  },
  {
   "cell_type": "code",
   "execution_count": 13,
   "metadata": {},
   "outputs": [
    {
     "name": "stdout",
     "output_type": "stream",
     "text": [
      "    Duracao        Data  Pulso  Maxpulso  Calorias       Date\n",
      "0        60  2020/12/01    110       130     409.1 2020-12-01\n",
      "1        60  2020/12/02    117       145     479.0 2020-12-02\n",
      "2        60  2020/12/03    103       135     340.0 2020-12-03\n",
      "3        45  2020/12/04    109       175     282.4 2020-12-04\n",
      "4        45  2020/12/05    117       148     406.0 2020-12-05\n",
      "5        60  2020/12/06    102       127     300.0 2020-12-06\n",
      "6        60  2020/12/07    110       136     374.0 2020-12-07\n",
      "7       450  2020/12/08    104       134     253.3 2020-12-08\n",
      "8        30  2020/12/09    109       133     195.1 2020-12-09\n",
      "9        60  2020/12/10     98       124     269.0 2020-12-10\n",
      "10       60  2020/12/11    103       147     329.3 2020-12-11\n",
      "11       60  2020/12/12    100       120     250.7 2020-12-12\n",
      "12       60  2020/12/12    100       120     250.7 2020-12-12\n",
      "13       60  2020/12/13    106       128     345.3 2020-12-13\n",
      "14       60  2020/12/14    104       132     379.3 2020-12-14\n",
      "15       60  2020/12/15     98       123     275.0 2020-12-15\n",
      "16       60  2020/12/16     98       120     215.2 2020-12-16\n",
      "17       60  2020/12/17    100       120     300.0 2020-12-17\n",
      "19       60  2020/12/19    103       123     323.0 2020-12-19\n",
      "20       45  2020/12/20     97       125     243.0 2020-12-20\n",
      "21       60  2020/12/21    108       131     364.2 2020-12-21\n",
      "23       60  2020/12/23    130       101     300.0 2020-12-23\n",
      "24       60  2020/12/24    105       132     246.0 2020-12-24\n",
      "25       60  2020/12/25    102       126     334.5 2020-12-25\n",
      "26       60  2020/12/26    100       120     250.0 2020-12-26\n",
      "27       60  2020/12/27     92       118     241.0 2020-12-27\n",
      "29       60  2020/12/29    100       132     280.0 2020-12-29\n",
      "30       60  2020/12/30    102       129     380.3 2020-12-30\n",
      "31       60  2020/12/31     92       115     243.0 2020-12-31\n"
     ]
    }
   ],
   "source": [
    "# Tratativa para Formato errado ... continuacao\n",
    "# Depois de aplicar o formato correto para os campos de datas\n",
    "# surgiu um valor NaT, que pode ser tratado como um valor NULL\n",
    "# Tratativa de remover a linha usando o método dropna()\n",
    "df.dropna(subset=['Date'], inplace = True)\n",
    "print(df.to_string())"
   ]
  },
  {
   "cell_type": "markdown",
   "metadata": {},
   "source": [
    "### 2- Identificar os dados que precisam ser manipulados, isso inclue:\n",
    "####    - Células vazias - Okay\n",
    "####    - Dados com formato errado - Okay\n",
    "####    - Dados errados: \"Duração\" na linha 7"
   ]
  },
  {
   "cell_type": "code",
   "execution_count": 14,
   "metadata": {},
   "outputs": [
    {
     "name": "stdout",
     "output_type": "stream",
     "text": [
      "    Duracao        Data  Pulso  Maxpulso  Calorias       Date\n",
      "0        60  2020/12/01    110       130     409.1 2020-12-01\n",
      "1        60  2020/12/02    117       145     479.0 2020-12-02\n",
      "2        60  2020/12/03    103       135     340.0 2020-12-03\n",
      "3        45  2020/12/04    109       175     282.4 2020-12-04\n",
      "4        45  2020/12/05    117       148     406.0 2020-12-05\n",
      "5        60  2020/12/06    102       127     300.0 2020-12-06\n",
      "6        60  2020/12/07    110       136     374.0 2020-12-07\n",
      "7        45  2020/12/08    104       134     253.3 2020-12-08\n",
      "8        30  2020/12/09    109       133     195.1 2020-12-09\n",
      "9        60  2020/12/10     98       124     269.0 2020-12-10\n",
      "10       60  2020/12/11    103       147     329.3 2020-12-11\n",
      "11       60  2020/12/12    100       120     250.7 2020-12-12\n",
      "12       60  2020/12/12    100       120     250.7 2020-12-12\n",
      "13       60  2020/12/13    106       128     345.3 2020-12-13\n",
      "14       60  2020/12/14    104       132     379.3 2020-12-14\n",
      "15       60  2020/12/15     98       123     275.0 2020-12-15\n",
      "16       60  2020/12/16     98       120     215.2 2020-12-16\n",
      "17       60  2020/12/17    100       120     300.0 2020-12-17\n",
      "19       60  2020/12/19    103       123     323.0 2020-12-19\n",
      "20       45  2020/12/20     97       125     243.0 2020-12-20\n",
      "21       60  2020/12/21    108       131     364.2 2020-12-21\n",
      "23       60  2020/12/23    130       101     300.0 2020-12-23\n",
      "24       60  2020/12/24    105       132     246.0 2020-12-24\n",
      "25       60  2020/12/25    102       126     334.5 2020-12-25\n",
      "26       60  2020/12/26    100       120     250.0 2020-12-26\n",
      "27       60  2020/12/27     92       118     241.0 2020-12-27\n",
      "29       60  2020/12/29    100       132     280.0 2020-12-29\n",
      "30       60  2020/12/30    102       129     380.3 2020-12-30\n",
      "31       60  2020/12/31     92       115     243.0 2020-12-31\n"
     ]
    }
   ],
   "source": [
    "# Tratativa para Dado Errado por Substituir o dado\n",
    "# Duracao corresponde a duracao do treino\n",
    "# todas as outras linhas a duracao seria um valor entre 30 e 45\n",
    "# Vamos substituir a informacao pelo valor de 45minutos em vez de 450minutos\n",
    "\n",
    "df.loc[7, 'Duracao'] = 45\n",
    "print(df.to_string())"
   ]
  },
  {
   "cell_type": "code",
   "execution_count": 15,
   "metadata": {},
   "outputs": [],
   "source": [
    "# Tratativa para Dado Errado por Remover o dado\n",
    "# Duracao corresponde a duracao do treino\n",
    "# todas as outras linhas a duracao seria um valor entre 30 e 45\n",
    "# vamos remover o dado\n",
    "\n",
    "for x in df.index:\n",
    "  if df.loc[x, \"Duracao\"] > 120:\n",
    "    df.drop(x, inplace = True)"
   ]
  },
  {
   "cell_type": "markdown",
   "metadata": {},
   "source": [
    "### 2- Identificar os dados que precisam ser manipulados, isso inclue:\n",
    "####    - Células vazias - Okay\n",
    "####    - Dados com formato errado - Okay\n",
    "####    - Dados errados: \"Duração\" - Okay\n",
    "####    - Duplicatas: O conjunto de dados contém duplicatas nas linhas 11 e 12"
   ]
  },
  {
   "cell_type": "code",
   "execution_count": null,
   "metadata": {},
   "outputs": [
    {
     "name": "stdout",
     "output_type": "stream",
     "text": [
      "0     False\n",
      "1     False\n",
      "2     False\n",
      "3     False\n",
      "4     False\n",
      "5     False\n",
      "6     False\n",
      "7     False\n",
      "8     False\n",
      "9     False\n",
      "10    False\n",
      "11    False\n",
      "12     True\n",
      "13    False\n",
      "14    False\n",
      "15    False\n",
      "16    False\n",
      "17    False\n",
      "18    False\n",
      "19    False\n",
      "20    False\n",
      "21    False\n",
      "23    False\n",
      "24    False\n",
      "25    False\n",
      "26    False\n",
      "29    False\n",
      "30    False\n",
      "31    False\n",
      "dtype: bool\n"
     ]
    }
   ],
   "source": [
    "# Identificar as linhas duplicadas usando o método duplicated().\n",
    "print(df.duplicated())"
   ]
  },
  {
   "cell_type": "code",
   "execution_count": null,
   "metadata": {},
   "outputs": [
    {
     "name": "stdout",
     "output_type": "stream",
     "text": [
      "    Duracao        Data  Pulso  Maxpulso  Calorias       Date  Duration\n",
      "0        60  2020/12/01    110       130     409.1 2020-12-01       NaN\n",
      "1        60  2020/12/02    117       145     479.0 2020-12-02       NaN\n",
      "2        60  2020/12/03    103       135     340.0 2020-12-03       NaN\n",
      "3        45  2020/12/04    109       175     282.4 2020-12-04       NaN\n",
      "4        45  2020/12/05    117       148     406.0 2020-12-05       NaN\n",
      "5        60  2020/12/06    102       127     300.0 2020-12-06       NaN\n",
      "6        60  2020/12/07    110       136     374.0 2020-12-07       NaN\n",
      "7        45  2020/12/08    104       134     253.3 2020-12-08      45.0\n",
      "8        30  2020/12/09    109       133     195.1 2020-12-09       NaN\n",
      "9        60  2020/12/10     98       124     269.0 2020-12-10       NaN\n",
      "10       60  2020/12/11    103       147     329.3 2020-12-11       NaN\n",
      "11       60  2020/12/12    100       120     250.7 2020-12-12       NaN\n",
      "13       60  2020/12/13    106       128     345.3 2020-12-13       NaN\n",
      "14       60  2020/12/14    104       132     379.3 2020-12-14       NaN\n",
      "15       60  2020/12/15     98       123     275.0 2020-12-15       NaN\n",
      "16       60  2020/12/16     98       120     215.2 2020-12-16       NaN\n",
      "17       60  2020/12/17    100       120     300.0 2020-12-17       NaN\n",
      "18       45  2020/12/18     90       112       NaN 2020-12-18       NaN\n",
      "19       60  2020/12/19    103       123     323.0 2020-12-19       NaN\n",
      "20       45  2020/12/20     97       125     243.0 2020-12-20       NaN\n",
      "21       60  2020/12/21    108       131     364.2 2020-12-21       NaN\n",
      "23       60  2020/12/23    130       101     300.0 2020-12-23       NaN\n",
      "24       60  2020/12/24    105       132     246.0 2020-12-24       NaN\n",
      "25       60  2020/12/25    102       126     334.5 2020-12-25       NaN\n",
      "26       60  2020/12/26    100       120     250.0 2020-12-26       NaN\n",
      "29       60  2020/12/29    100       132     280.0 2020-12-29       NaN\n",
      "30       60  2020/12/30    102       129     380.3 2020-12-30       NaN\n",
      "31       60  2020/12/31     92       115     243.0 2020-12-31       NaN\n"
     ]
    }
   ],
   "source": [
    "# Tratativa para Remover Duplicadas pelo método drop_duplicates()\n",
    "df.drop_duplicates(inplace = True)\n",
    "print(df.to_string())"
   ]
  },
  {
   "cell_type": "markdown",
   "metadata": {},
   "source": [
    "### FIM DAS ETAPAS DE LIMPEZA\n",
    "####    - Células vazias - Okay\n",
    "####    - Dados com formato errado - Okay\n",
    "####    - Dados errados: \"Duração\" - Okay\n",
    "####    - Duplicatas - Okay"
   ]
  }
 ],
 "metadata": {
  "kernelspec": {
   "display_name": "Python 3",
   "language": "python",
   "name": "python3"
  },
  "language_info": {
   "codemirror_mode": {
    "name": "ipython",
    "version": 3
   },
   "file_extension": ".py",
   "mimetype": "text/x-python",
   "name": "python",
   "nbconvert_exporter": "python",
   "pygments_lexer": "ipython3",
   "version": "3.12.3"
  }
 },
 "nbformat": 4,
 "nbformat_minor": 2
}
